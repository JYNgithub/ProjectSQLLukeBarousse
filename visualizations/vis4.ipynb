{
 "cells": [
  {
   "cell_type": "code",
   "execution_count": 1,
   "metadata": {},
   "outputs": [],
   "source": [
    "import pandas as pd\n",
    "import numpy as np\n",
    "import plotly.express as px \n",
    "import plotly.graph_objects as go\n",
    "df = pd.read_csv(\"../queried_csv/4_high_demand_pay_skills_overall.csv\")"
   ]
  },
  {
   "cell_type": "code",
   "execution_count": 2,
   "metadata": {},
   "outputs": [
    {
     "data": {
      "text/html": [
       "<div>\n",
       "<style scoped>\n",
       "    .dataframe tbody tr th:only-of-type {\n",
       "        vertical-align: middle;\n",
       "    }\n",
       "\n",
       "    .dataframe tbody tr th {\n",
       "        vertical-align: top;\n",
       "    }\n",
       "\n",
       "    .dataframe thead th {\n",
       "        text-align: right;\n",
       "    }\n",
       "</style>\n",
       "<table border=\"1\" class=\"dataframe\">\n",
       "  <thead>\n",
       "    <tr style=\"text-align: right;\">\n",
       "      <th></th>\n",
       "      <th>skill_id</th>\n",
       "      <th>skills</th>\n",
       "      <th>demand_for_skill</th>\n",
       "      <th>average_hourly_salary</th>\n",
       "    </tr>\n",
       "  </thead>\n",
       "  <tbody>\n",
       "    <tr>\n",
       "      <th>4</th>\n",
       "      <td>74</td>\n",
       "      <td>azure</td>\n",
       "      <td>773</td>\n",
       "      <td>57.22</td>\n",
       "    </tr>\n",
       "    <tr>\n",
       "      <th>7</th>\n",
       "      <td>97</td>\n",
       "      <td>hadoop</td>\n",
       "      <td>465</td>\n",
       "      <td>58.59</td>\n",
       "    </tr>\n",
       "    <tr>\n",
       "      <th>2</th>\n",
       "      <td>76</td>\n",
       "      <td>aws</td>\n",
       "      <td>1127</td>\n",
       "      <td>58.94</td>\n",
       "    </tr>\n",
       "    <tr>\n",
       "      <th>0</th>\n",
       "      <td>0</td>\n",
       "      <td>sql</td>\n",
       "      <td>1796</td>\n",
       "      <td>59.19</td>\n",
       "    </tr>\n",
       "    <tr>\n",
       "      <th>9</th>\n",
       "      <td>98</td>\n",
       "      <td>kafka</td>\n",
       "      <td>427</td>\n",
       "      <td>59.37</td>\n",
       "    </tr>\n",
       "    <tr>\n",
       "      <th>1</th>\n",
       "      <td>1</td>\n",
       "      <td>python</td>\n",
       "      <td>1640</td>\n",
       "      <td>59.98</td>\n",
       "    </tr>\n",
       "    <tr>\n",
       "      <th>5</th>\n",
       "      <td>80</td>\n",
       "      <td>snowflake</td>\n",
       "      <td>668</td>\n",
       "      <td>60.00</td>\n",
       "    </tr>\n",
       "    <tr>\n",
       "      <th>6</th>\n",
       "      <td>4</td>\n",
       "      <td>java</td>\n",
       "      <td>600</td>\n",
       "      <td>60.05</td>\n",
       "    </tr>\n",
       "    <tr>\n",
       "      <th>3</th>\n",
       "      <td>92</td>\n",
       "      <td>spark</td>\n",
       "      <td>817</td>\n",
       "      <td>60.54</td>\n",
       "    </tr>\n",
       "    <tr>\n",
       "      <th>8</th>\n",
       "      <td>75</td>\n",
       "      <td>databricks</td>\n",
       "      <td>439</td>\n",
       "      <td>61.28</td>\n",
       "    </tr>\n",
       "  </tbody>\n",
       "</table>\n",
       "</div>"
      ],
      "text/plain": [
       "   skill_id      skills  demand_for_skill  average_hourly_salary\n",
       "4        74       azure               773                  57.22\n",
       "7        97      hadoop               465                  58.59\n",
       "2        76         aws              1127                  58.94\n",
       "0         0         sql              1796                  59.19\n",
       "9        98       kafka               427                  59.37\n",
       "1         1      python              1640                  59.98\n",
       "5        80   snowflake               668                  60.00\n",
       "6         4        java               600                  60.05\n",
       "3        92       spark               817                  60.54\n",
       "8        75  databricks               439                  61.28"
      ]
     },
     "execution_count": 2,
     "metadata": {},
     "output_type": "execute_result"
    }
   ],
   "source": [
    "df.sort_values('average_hourly_salary')"
   ]
  },
  {
   "cell_type": "code",
   "execution_count": 4,
   "metadata": {},
   "outputs": [
    {
     "data": {
      "application/vnd.plotly.v1+json": {
       "config": {
        "plotlyServerURL": "https://plot.ly"
       },
       "data": [
        {
         "hovertemplate": "<b>Skill:</b> %{text}<br><b>Average Hourly Salary:</b> %{x}<br><b>Demand:</b> %{y}<extra></extra>",
         "legendgroup": "sql",
         "marker": {
          "color": "#636efa",
          "size": 26,
          "symbol": "circle"
         },
         "mode": "markers+text",
         "name": "sql",
         "orientation": "v",
         "showlegend": true,
         "text": [
          "sql"
         ],
         "textposition": "top center",
         "type": "scatter",
         "x": [
          59.19
         ],
         "xaxis": "x",
         "y": [
          1796
         ],
         "yaxis": "y"
        },
        {
         "hovertemplate": "<b>Skill:</b> %{text}<br><b>Average Hourly Salary:</b> %{x}<br><b>Demand:</b> %{y}<extra></extra>",
         "legendgroup": "python",
         "marker": {
          "color": "#EF553B",
          "size": 26,
          "symbol": "circle"
         },
         "mode": "markers+text",
         "name": "python",
         "orientation": "v",
         "showlegend": true,
         "text": [
          "python"
         ],
         "textposition": "top center",
         "type": "scatter",
         "x": [
          59.98
         ],
         "xaxis": "x",
         "y": [
          1640
         ],
         "yaxis": "y"
        },
        {
         "hovertemplate": "<b>Skill:</b> %{text}<br><b>Average Hourly Salary:</b> %{x}<br><b>Demand:</b> %{y}<extra></extra>",
         "legendgroup": "aws",
         "marker": {
          "color": "#00cc96",
          "size": 26,
          "symbol": "circle"
         },
         "mode": "markers+text",
         "name": "aws",
         "orientation": "v",
         "showlegend": true,
         "text": [
          "aws"
         ],
         "textposition": "top center",
         "type": "scatter",
         "x": [
          58.94
         ],
         "xaxis": "x",
         "y": [
          1127
         ],
         "yaxis": "y"
        },
        {
         "hovertemplate": "<b>Skill:</b> %{text}<br><b>Average Hourly Salary:</b> %{x}<br><b>Demand:</b> %{y}<extra></extra>",
         "legendgroup": "spark",
         "marker": {
          "color": "#ab63fa",
          "size": 26,
          "symbol": "circle"
         },
         "mode": "markers+text",
         "name": "spark",
         "orientation": "v",
         "showlegend": true,
         "text": [
          "spark"
         ],
         "textposition": "top center",
         "type": "scatter",
         "x": [
          60.54
         ],
         "xaxis": "x",
         "y": [
          817
         ],
         "yaxis": "y"
        },
        {
         "hovertemplate": "<b>Skill:</b> %{text}<br><b>Average Hourly Salary:</b> %{x}<br><b>Demand:</b> %{y}<extra></extra>",
         "legendgroup": "azure",
         "marker": {
          "color": "#FFA15A",
          "size": 26,
          "symbol": "circle"
         },
         "mode": "markers+text",
         "name": "azure",
         "orientation": "v",
         "showlegend": true,
         "text": [
          "azure"
         ],
         "textposition": "top center",
         "type": "scatter",
         "x": [
          57.22
         ],
         "xaxis": "x",
         "y": [
          773
         ],
         "yaxis": "y"
        },
        {
         "hovertemplate": "<b>Skill:</b> %{text}<br><b>Average Hourly Salary:</b> %{x}<br><b>Demand:</b> %{y}<extra></extra>",
         "legendgroup": "snowflake",
         "marker": {
          "color": "#19d3f3",
          "size": 26,
          "symbol": "circle"
         },
         "mode": "markers+text",
         "name": "snowflake",
         "orientation": "v",
         "showlegend": true,
         "text": [
          "snowflake"
         ],
         "textposition": "top center",
         "type": "scatter",
         "x": [
          60
         ],
         "xaxis": "x",
         "y": [
          668
         ],
         "yaxis": "y"
        },
        {
         "hovertemplate": "<b>Skill:</b> %{text}<br><b>Average Hourly Salary:</b> %{x}<br><b>Demand:</b> %{y}<extra></extra>",
         "legendgroup": "java",
         "marker": {
          "color": "#FF6692",
          "size": 26,
          "symbol": "circle"
         },
         "mode": "markers+text",
         "name": "java",
         "orientation": "v",
         "showlegend": true,
         "text": [
          "java"
         ],
         "textposition": "top center",
         "type": "scatter",
         "x": [
          60.05
         ],
         "xaxis": "x",
         "y": [
          600
         ],
         "yaxis": "y"
        },
        {
         "hovertemplate": "<b>Skill:</b> %{text}<br><b>Average Hourly Salary:</b> %{x}<br><b>Demand:</b> %{y}<extra></extra>",
         "legendgroup": "hadoop",
         "marker": {
          "color": "#B6E880",
          "size": 26,
          "symbol": "circle"
         },
         "mode": "markers+text",
         "name": "hadoop",
         "orientation": "v",
         "showlegend": true,
         "text": [
          "hadoop"
         ],
         "textposition": "top center",
         "type": "scatter",
         "x": [
          58.59
         ],
         "xaxis": "x",
         "y": [
          465
         ],
         "yaxis": "y"
        },
        {
         "hovertemplate": "<b>Skill:</b> %{text}<br><b>Average Hourly Salary:</b> %{x}<br><b>Demand:</b> %{y}<extra></extra>",
         "legendgroup": "databricks",
         "marker": {
          "color": "#FF97FF",
          "size": 26,
          "symbol": "circle"
         },
         "mode": "markers+text",
         "name": "databricks",
         "orientation": "v",
         "showlegend": true,
         "text": [
          "databricks"
         ],
         "textposition": "top center",
         "type": "scatter",
         "x": [
          61.28
         ],
         "xaxis": "x",
         "y": [
          439
         ],
         "yaxis": "y"
        },
        {
         "hovertemplate": "<b>Skill:</b> %{text}<br><b>Average Hourly Salary:</b> %{x}<br><b>Demand:</b> %{y}<extra></extra>",
         "legendgroup": "kafka",
         "marker": {
          "color": "#FECB52",
          "size": 26,
          "symbol": "circle"
         },
         "mode": "markers+text",
         "name": "kafka",
         "orientation": "v",
         "showlegend": true,
         "text": [
          "kafka"
         ],
         "textposition": "top center",
         "type": "scatter",
         "x": [
          59.37
         ],
         "xaxis": "x",
         "y": [
          427
         ],
         "yaxis": "y"
        }
       ],
       "layout": {
        "font": {
         "color": "white",
         "family": "verdana",
         "size": 20
        },
        "height": 600,
        "legend": {
         "title": {
          "text": "skills"
         },
         "tracegroupgap": 0
        },
        "margin": {
         "t": 120
        },
        "paper_bgcolor": "#08152A",
        "plot_bgcolor": "#08152A",
        "showlegend": false,
        "template": {
         "data": {
          "bar": [
           {
            "error_x": {
             "color": "#2a3f5f"
            },
            "error_y": {
             "color": "#2a3f5f"
            },
            "marker": {
             "line": {
              "color": "#E5ECF6",
              "width": 0.5
             },
             "pattern": {
              "fillmode": "overlay",
              "size": 10,
              "solidity": 0.2
             }
            },
            "type": "bar"
           }
          ],
          "barpolar": [
           {
            "marker": {
             "line": {
              "color": "#E5ECF6",
              "width": 0.5
             },
             "pattern": {
              "fillmode": "overlay",
              "size": 10,
              "solidity": 0.2
             }
            },
            "type": "barpolar"
           }
          ],
          "carpet": [
           {
            "aaxis": {
             "endlinecolor": "#2a3f5f",
             "gridcolor": "white",
             "linecolor": "white",
             "minorgridcolor": "white",
             "startlinecolor": "#2a3f5f"
            },
            "baxis": {
             "endlinecolor": "#2a3f5f",
             "gridcolor": "white",
             "linecolor": "white",
             "minorgridcolor": "white",
             "startlinecolor": "#2a3f5f"
            },
            "type": "carpet"
           }
          ],
          "choropleth": [
           {
            "colorbar": {
             "outlinewidth": 0,
             "ticks": ""
            },
            "type": "choropleth"
           }
          ],
          "contour": [
           {
            "colorbar": {
             "outlinewidth": 0,
             "ticks": ""
            },
            "colorscale": [
             [
              0,
              "#0d0887"
             ],
             [
              0.1111111111111111,
              "#46039f"
             ],
             [
              0.2222222222222222,
              "#7201a8"
             ],
             [
              0.3333333333333333,
              "#9c179e"
             ],
             [
              0.4444444444444444,
              "#bd3786"
             ],
             [
              0.5555555555555556,
              "#d8576b"
             ],
             [
              0.6666666666666666,
              "#ed7953"
             ],
             [
              0.7777777777777778,
              "#fb9f3a"
             ],
             [
              0.8888888888888888,
              "#fdca26"
             ],
             [
              1,
              "#f0f921"
             ]
            ],
            "type": "contour"
           }
          ],
          "contourcarpet": [
           {
            "colorbar": {
             "outlinewidth": 0,
             "ticks": ""
            },
            "type": "contourcarpet"
           }
          ],
          "heatmap": [
           {
            "colorbar": {
             "outlinewidth": 0,
             "ticks": ""
            },
            "colorscale": [
             [
              0,
              "#0d0887"
             ],
             [
              0.1111111111111111,
              "#46039f"
             ],
             [
              0.2222222222222222,
              "#7201a8"
             ],
             [
              0.3333333333333333,
              "#9c179e"
             ],
             [
              0.4444444444444444,
              "#bd3786"
             ],
             [
              0.5555555555555556,
              "#d8576b"
             ],
             [
              0.6666666666666666,
              "#ed7953"
             ],
             [
              0.7777777777777778,
              "#fb9f3a"
             ],
             [
              0.8888888888888888,
              "#fdca26"
             ],
             [
              1,
              "#f0f921"
             ]
            ],
            "type": "heatmap"
           }
          ],
          "heatmapgl": [
           {
            "colorbar": {
             "outlinewidth": 0,
             "ticks": ""
            },
            "colorscale": [
             [
              0,
              "#0d0887"
             ],
             [
              0.1111111111111111,
              "#46039f"
             ],
             [
              0.2222222222222222,
              "#7201a8"
             ],
             [
              0.3333333333333333,
              "#9c179e"
             ],
             [
              0.4444444444444444,
              "#bd3786"
             ],
             [
              0.5555555555555556,
              "#d8576b"
             ],
             [
              0.6666666666666666,
              "#ed7953"
             ],
             [
              0.7777777777777778,
              "#fb9f3a"
             ],
             [
              0.8888888888888888,
              "#fdca26"
             ],
             [
              1,
              "#f0f921"
             ]
            ],
            "type": "heatmapgl"
           }
          ],
          "histogram": [
           {
            "marker": {
             "pattern": {
              "fillmode": "overlay",
              "size": 10,
              "solidity": 0.2
             }
            },
            "type": "histogram"
           }
          ],
          "histogram2d": [
           {
            "colorbar": {
             "outlinewidth": 0,
             "ticks": ""
            },
            "colorscale": [
             [
              0,
              "#0d0887"
             ],
             [
              0.1111111111111111,
              "#46039f"
             ],
             [
              0.2222222222222222,
              "#7201a8"
             ],
             [
              0.3333333333333333,
              "#9c179e"
             ],
             [
              0.4444444444444444,
              "#bd3786"
             ],
             [
              0.5555555555555556,
              "#d8576b"
             ],
             [
              0.6666666666666666,
              "#ed7953"
             ],
             [
              0.7777777777777778,
              "#fb9f3a"
             ],
             [
              0.8888888888888888,
              "#fdca26"
             ],
             [
              1,
              "#f0f921"
             ]
            ],
            "type": "histogram2d"
           }
          ],
          "histogram2dcontour": [
           {
            "colorbar": {
             "outlinewidth": 0,
             "ticks": ""
            },
            "colorscale": [
             [
              0,
              "#0d0887"
             ],
             [
              0.1111111111111111,
              "#46039f"
             ],
             [
              0.2222222222222222,
              "#7201a8"
             ],
             [
              0.3333333333333333,
              "#9c179e"
             ],
             [
              0.4444444444444444,
              "#bd3786"
             ],
             [
              0.5555555555555556,
              "#d8576b"
             ],
             [
              0.6666666666666666,
              "#ed7953"
             ],
             [
              0.7777777777777778,
              "#fb9f3a"
             ],
             [
              0.8888888888888888,
              "#fdca26"
             ],
             [
              1,
              "#f0f921"
             ]
            ],
            "type": "histogram2dcontour"
           }
          ],
          "mesh3d": [
           {
            "colorbar": {
             "outlinewidth": 0,
             "ticks": ""
            },
            "type": "mesh3d"
           }
          ],
          "parcoords": [
           {
            "line": {
             "colorbar": {
              "outlinewidth": 0,
              "ticks": ""
             }
            },
            "type": "parcoords"
           }
          ],
          "pie": [
           {
            "automargin": true,
            "type": "pie"
           }
          ],
          "scatter": [
           {
            "fillpattern": {
             "fillmode": "overlay",
             "size": 10,
             "solidity": 0.2
            },
            "type": "scatter"
           }
          ],
          "scatter3d": [
           {
            "line": {
             "colorbar": {
              "outlinewidth": 0,
              "ticks": ""
             }
            },
            "marker": {
             "colorbar": {
              "outlinewidth": 0,
              "ticks": ""
             }
            },
            "type": "scatter3d"
           }
          ],
          "scattercarpet": [
           {
            "marker": {
             "colorbar": {
              "outlinewidth": 0,
              "ticks": ""
             }
            },
            "type": "scattercarpet"
           }
          ],
          "scattergeo": [
           {
            "marker": {
             "colorbar": {
              "outlinewidth": 0,
              "ticks": ""
             }
            },
            "type": "scattergeo"
           }
          ],
          "scattergl": [
           {
            "marker": {
             "colorbar": {
              "outlinewidth": 0,
              "ticks": ""
             }
            },
            "type": "scattergl"
           }
          ],
          "scattermapbox": [
           {
            "marker": {
             "colorbar": {
              "outlinewidth": 0,
              "ticks": ""
             }
            },
            "type": "scattermapbox"
           }
          ],
          "scatterpolar": [
           {
            "marker": {
             "colorbar": {
              "outlinewidth": 0,
              "ticks": ""
             }
            },
            "type": "scatterpolar"
           }
          ],
          "scatterpolargl": [
           {
            "marker": {
             "colorbar": {
              "outlinewidth": 0,
              "ticks": ""
             }
            },
            "type": "scatterpolargl"
           }
          ],
          "scatterternary": [
           {
            "marker": {
             "colorbar": {
              "outlinewidth": 0,
              "ticks": ""
             }
            },
            "type": "scatterternary"
           }
          ],
          "surface": [
           {
            "colorbar": {
             "outlinewidth": 0,
             "ticks": ""
            },
            "colorscale": [
             [
              0,
              "#0d0887"
             ],
             [
              0.1111111111111111,
              "#46039f"
             ],
             [
              0.2222222222222222,
              "#7201a8"
             ],
             [
              0.3333333333333333,
              "#9c179e"
             ],
             [
              0.4444444444444444,
              "#bd3786"
             ],
             [
              0.5555555555555556,
              "#d8576b"
             ],
             [
              0.6666666666666666,
              "#ed7953"
             ],
             [
              0.7777777777777778,
              "#fb9f3a"
             ],
             [
              0.8888888888888888,
              "#fdca26"
             ],
             [
              1,
              "#f0f921"
             ]
            ],
            "type": "surface"
           }
          ],
          "table": [
           {
            "cells": {
             "fill": {
              "color": "#EBF0F8"
             },
             "line": {
              "color": "white"
             }
            },
            "header": {
             "fill": {
              "color": "#C8D4E3"
             },
             "line": {
              "color": "white"
             }
            },
            "type": "table"
           }
          ]
         },
         "layout": {
          "annotationdefaults": {
           "arrowcolor": "#2a3f5f",
           "arrowhead": 0,
           "arrowwidth": 1
          },
          "autotypenumbers": "strict",
          "coloraxis": {
           "colorbar": {
            "outlinewidth": 0,
            "ticks": ""
           }
          },
          "colorscale": {
           "diverging": [
            [
             0,
             "#8e0152"
            ],
            [
             0.1,
             "#c51b7d"
            ],
            [
             0.2,
             "#de77ae"
            ],
            [
             0.3,
             "#f1b6da"
            ],
            [
             0.4,
             "#fde0ef"
            ],
            [
             0.5,
             "#f7f7f7"
            ],
            [
             0.6,
             "#e6f5d0"
            ],
            [
             0.7,
             "#b8e186"
            ],
            [
             0.8,
             "#7fbc41"
            ],
            [
             0.9,
             "#4d9221"
            ],
            [
             1,
             "#276419"
            ]
           ],
           "sequential": [
            [
             0,
             "#0d0887"
            ],
            [
             0.1111111111111111,
             "#46039f"
            ],
            [
             0.2222222222222222,
             "#7201a8"
            ],
            [
             0.3333333333333333,
             "#9c179e"
            ],
            [
             0.4444444444444444,
             "#bd3786"
            ],
            [
             0.5555555555555556,
             "#d8576b"
            ],
            [
             0.6666666666666666,
             "#ed7953"
            ],
            [
             0.7777777777777778,
             "#fb9f3a"
            ],
            [
             0.8888888888888888,
             "#fdca26"
            ],
            [
             1,
             "#f0f921"
            ]
           ],
           "sequentialminus": [
            [
             0,
             "#0d0887"
            ],
            [
             0.1111111111111111,
             "#46039f"
            ],
            [
             0.2222222222222222,
             "#7201a8"
            ],
            [
             0.3333333333333333,
             "#9c179e"
            ],
            [
             0.4444444444444444,
             "#bd3786"
            ],
            [
             0.5555555555555556,
             "#d8576b"
            ],
            [
             0.6666666666666666,
             "#ed7953"
            ],
            [
             0.7777777777777778,
             "#fb9f3a"
            ],
            [
             0.8888888888888888,
             "#fdca26"
            ],
            [
             1,
             "#f0f921"
            ]
           ]
          },
          "colorway": [
           "#636efa",
           "#EF553B",
           "#00cc96",
           "#ab63fa",
           "#FFA15A",
           "#19d3f3",
           "#FF6692",
           "#B6E880",
           "#FF97FF",
           "#FECB52"
          ],
          "font": {
           "color": "#2a3f5f"
          },
          "geo": {
           "bgcolor": "white",
           "lakecolor": "white",
           "landcolor": "#E5ECF6",
           "showlakes": true,
           "showland": true,
           "subunitcolor": "white"
          },
          "hoverlabel": {
           "align": "left"
          },
          "hovermode": "closest",
          "mapbox": {
           "style": "light"
          },
          "paper_bgcolor": "white",
          "plot_bgcolor": "#E5ECF6",
          "polar": {
           "angularaxis": {
            "gridcolor": "white",
            "linecolor": "white",
            "ticks": ""
           },
           "bgcolor": "#E5ECF6",
           "radialaxis": {
            "gridcolor": "white",
            "linecolor": "white",
            "ticks": ""
           }
          },
          "scene": {
           "xaxis": {
            "backgroundcolor": "#E5ECF6",
            "gridcolor": "white",
            "gridwidth": 2,
            "linecolor": "white",
            "showbackground": true,
            "ticks": "",
            "zerolinecolor": "white"
           },
           "yaxis": {
            "backgroundcolor": "#E5ECF6",
            "gridcolor": "white",
            "gridwidth": 2,
            "linecolor": "white",
            "showbackground": true,
            "ticks": "",
            "zerolinecolor": "white"
           },
           "zaxis": {
            "backgroundcolor": "#E5ECF6",
            "gridcolor": "white",
            "gridwidth": 2,
            "linecolor": "white",
            "showbackground": true,
            "ticks": "",
            "zerolinecolor": "white"
           }
          },
          "shapedefaults": {
           "line": {
            "color": "#2a3f5f"
           }
          },
          "ternary": {
           "aaxis": {
            "gridcolor": "white",
            "linecolor": "white",
            "ticks": ""
           },
           "baxis": {
            "gridcolor": "white",
            "linecolor": "white",
            "ticks": ""
           },
           "bgcolor": "#E5ECF6",
           "caxis": {
            "gridcolor": "white",
            "linecolor": "white",
            "ticks": ""
           }
          },
          "title": {
           "x": 0.05
          },
          "xaxis": {
           "automargin": true,
           "gridcolor": "white",
           "linecolor": "white",
           "ticks": "",
           "title": {
            "standoff": 15
           },
           "zerolinecolor": "white",
           "zerolinewidth": 2
          },
          "yaxis": {
           "automargin": true,
           "gridcolor": "white",
           "linecolor": "white",
           "ticks": "",
           "title": {
            "standoff": 15
           },
           "zerolinecolor": "white",
           "zerolinewidth": 2
          }
         }
        },
        "title": {
         "text": "<b>Most Highly Paid AND Demanded Skills <br>for Data Engineer Roles</b>",
         "x": 0.5,
         "y": 0.92
        },
        "width": 1000,
        "xaxis": {
         "anchor": "y",
         "domain": [
          0,
          1
         ],
         "gridcolor": "rgba(255, 255, 255, 0.2)",
         "tickfont": {
          "color": "white",
          "family": "verdana",
          "size": 16
         },
         "title": {
          "font": {
           "color": "white",
           "family": "verdana",
           "size": 20
          },
          "text": "Average Hourly Salary"
         }
        },
        "yaxis": {
         "anchor": "x",
         "domain": [
          0,
          1
         ],
         "gridcolor": "rgba(255, 255, 255, 0.2)",
         "tickfont": {
          "color": "white",
          "family": "verdana",
          "size": 16
         },
         "title": {
          "font": {
           "color": "white",
           "family": "verdana",
           "size": 20
          },
          "text": "Demand"
         }
        }
       }
      }
     },
     "metadata": {},
     "output_type": "display_data"
    }
   ],
   "source": [
    "import plotly.express as px\n",
    "\n",
    "# Create scatter plot with skill labels and customized hover info\n",
    "fig = px.scatter(\n",
    "    df,\n",
    "    x='average_hourly_salary',\n",
    "    y='demand_for_skill',\n",
    "    color='skills',\n",
    "    labels={'average_hourly_salary': 'Average Hourly Salary', 'demand_for_skill': 'Demand for Skill'},\n",
    "    text='skills'  # Display skill names beside each marker\n",
    ")\n",
    "\n",
    "# Customize marker size, hover information, and layout\n",
    "fig.update_traces(\n",
    "    marker=dict(size=26),\n",
    "    textposition=\"top center\",  # Position text beside markers\n",
    "    hovertemplate=\"<b>Skill:</b> %{text}<br>\" +\n",
    "                  \"<b>Average Hourly Salary:</b> %{x}<br>\" +\n",
    "                  \"<b>Demand:</b> %{y}<extra></extra>\"  # Show all data in hover\n",
    ")\n",
    "\n",
    "fig.update_layout(\n",
    "    title=\"<b>Most Highly Paid AND Demanded Skills <br>for Data Engineer Roles</b>\",\n",
    "    font=dict(family=\"verdana\", size=20, color=\"white\"),\n",
    "    title_x=0.5,\n",
    "    title_y=0.92,\n",
    "    margin=dict(t=120),   \n",
    "    width=1000,\n",
    "    height=600,\n",
    "    paper_bgcolor='#08152A',\n",
    "    plot_bgcolor='#08152A',\n",
    "    showlegend = False,\n",
    "    xaxis=dict(\n",
    "        title_font=dict(family=\"verdana\", size=20, color=\"white\"),\n",
    "        tickfont=dict(family=\"verdana\", size=16, color=\"white\"),\n",
    "        gridcolor='rgba(255, 255, 255, 0.2)'\n",
    "    ),\n",
    "    yaxis=dict(\n",
    "        title = 'Demand',\n",
    "        title_font=dict(family=\"verdana\", size=20, color=\"white\"),\n",
    "        tickfont=dict(family=\"verdana\", size=16, color=\"white\"),\n",
    "        gridcolor='rgba(255, 255, 255, 0.2)'\n",
    "    )\n",
    ")\n",
    "\n",
    "fig.show()\n"
   ]
  }
 ],
 "metadata": {
  "kernelspec": {
   "display_name": "base",
   "language": "python",
   "name": "python3"
  },
  "language_info": {
   "codemirror_mode": {
    "name": "ipython",
    "version": 3
   },
   "file_extension": ".py",
   "mimetype": "text/x-python",
   "name": "python",
   "nbconvert_exporter": "python",
   "pygments_lexer": "ipython3",
   "version": "3.11.7"
  }
 },
 "nbformat": 4,
 "nbformat_minor": 2
}
