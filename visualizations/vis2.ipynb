{
 "cells": [
  {
   "cell_type": "code",
   "execution_count": 1,
   "metadata": {},
   "outputs": [],
   "source": [
    "import pandas as pd\n",
    "import plotly.express as px \n",
    "import plotly.graph_objects as go\n",
    "import numpy as np\n",
    "df = pd.read_csv(\"../queried_csv/2_top_paying_opportunities.csv\")"
   ]
  },
  {
   "cell_type": "code",
   "execution_count": 2,
   "metadata": {},
   "outputs": [
    {
     "data": {
      "text/html": [
       "<div>\n",
       "<style scoped>\n",
       "    .dataframe tbody tr th:only-of-type {\n",
       "        vertical-align: middle;\n",
       "    }\n",
       "\n",
       "    .dataframe tbody tr th {\n",
       "        vertical-align: top;\n",
       "    }\n",
       "\n",
       "    .dataframe thead th {\n",
       "        text-align: right;\n",
       "    }\n",
       "</style>\n",
       "<table border=\"1\" class=\"dataframe\">\n",
       "  <thead>\n",
       "    <tr style=\"text-align: right;\">\n",
       "      <th></th>\n",
       "      <th>job_title</th>\n",
       "      <th>salary_hour_avg</th>\n",
       "      <th>job_posted_date</th>\n",
       "      <th>job_country</th>\n",
       "      <th>company_name</th>\n",
       "      <th>job_no_degree_mention</th>\n",
       "    </tr>\n",
       "  </thead>\n",
       "  <tbody>\n",
       "    <tr>\n",
       "      <th>0</th>\n",
       "      <td>Data Engineer</td>\n",
       "      <td>117.5</td>\n",
       "      <td>2023-09-28 15:53:54</td>\n",
       "      <td>Sudan</td>\n",
       "      <td>Upwork</td>\n",
       "      <td>No degree required</td>\n",
       "    </tr>\n",
       "    <tr>\n",
       "      <th>1</th>\n",
       "      <td>Data Engineer</td>\n",
       "      <td>105.0</td>\n",
       "      <td>2023-10-04 21:18:25</td>\n",
       "      <td>Sudan</td>\n",
       "      <td>SSI People</td>\n",
       "      <td>No degree required</td>\n",
       "    </tr>\n",
       "    <tr>\n",
       "      <th>2</th>\n",
       "      <td>Data Engineer</td>\n",
       "      <td>100.0</td>\n",
       "      <td>2023-07-21 14:10:48</td>\n",
       "      <td>United States</td>\n",
       "      <td>Wright Technical Services</td>\n",
       "      <td>Degree required</td>\n",
       "    </tr>\n",
       "    <tr>\n",
       "      <th>3</th>\n",
       "      <td>Data Engineer</td>\n",
       "      <td>100.0</td>\n",
       "      <td>2023-04-06 18:05:08</td>\n",
       "      <td>United States</td>\n",
       "      <td>BayOne Solutions</td>\n",
       "      <td>Degree required</td>\n",
       "    </tr>\n",
       "    <tr>\n",
       "      <th>4</th>\n",
       "      <td>Data Engineer</td>\n",
       "      <td>100.0</td>\n",
       "      <td>2023-09-15 19:09:03</td>\n",
       "      <td>United States</td>\n",
       "      <td>Upwork</td>\n",
       "      <td>No degree required</td>\n",
       "    </tr>\n",
       "    <tr>\n",
       "      <th>5</th>\n",
       "      <td>Data Engineer</td>\n",
       "      <td>100.0</td>\n",
       "      <td>2023-01-31 01:09:50</td>\n",
       "      <td>United States</td>\n",
       "      <td>Atlantic Partners Corporation</td>\n",
       "      <td>Degree required</td>\n",
       "    </tr>\n",
       "    <tr>\n",
       "      <th>6</th>\n",
       "      <td>Data Engineer</td>\n",
       "      <td>97.5</td>\n",
       "      <td>2023-01-30 16:05:19</td>\n",
       "      <td>United States</td>\n",
       "      <td>Brooksource</td>\n",
       "      <td>No degree required</td>\n",
       "    </tr>\n",
       "    <tr>\n",
       "      <th>7</th>\n",
       "      <td>Data Engineer</td>\n",
       "      <td>96.5</td>\n",
       "      <td>2023-10-13 18:27:18</td>\n",
       "      <td>United States</td>\n",
       "      <td>Motion Recruitment</td>\n",
       "      <td>No degree required</td>\n",
       "    </tr>\n",
       "    <tr>\n",
       "      <th>8</th>\n",
       "      <td>Data Engineer</td>\n",
       "      <td>95.0</td>\n",
       "      <td>2023-02-21 09:27:41</td>\n",
       "      <td>United States</td>\n",
       "      <td>Alium</td>\n",
       "      <td>Degree required</td>\n",
       "    </tr>\n",
       "    <tr>\n",
       "      <th>9</th>\n",
       "      <td>Data Engineer</td>\n",
       "      <td>95.0</td>\n",
       "      <td>2023-10-12 23:28:34</td>\n",
       "      <td>United States</td>\n",
       "      <td>Motion Recruitment</td>\n",
       "      <td>Degree required</td>\n",
       "    </tr>\n",
       "  </tbody>\n",
       "</table>\n",
       "</div>"
      ],
      "text/plain": [
       "       job_title  salary_hour_avg      job_posted_date    job_country  \\\n",
       "0  Data Engineer            117.5  2023-09-28 15:53:54          Sudan   \n",
       "1  Data Engineer            105.0  2023-10-04 21:18:25          Sudan   \n",
       "2  Data Engineer            100.0  2023-07-21 14:10:48  United States   \n",
       "3  Data Engineer            100.0  2023-04-06 18:05:08  United States   \n",
       "4  Data Engineer            100.0  2023-09-15 19:09:03  United States   \n",
       "5  Data Engineer            100.0  2023-01-31 01:09:50  United States   \n",
       "6  Data Engineer             97.5  2023-01-30 16:05:19  United States   \n",
       "7  Data Engineer             96.5  2023-10-13 18:27:18  United States   \n",
       "8  Data Engineer             95.0  2023-02-21 09:27:41  United States   \n",
       "9  Data Engineer             95.0  2023-10-12 23:28:34  United States   \n",
       "\n",
       "                    company_name job_no_degree_mention  \n",
       "0                         Upwork    No degree required  \n",
       "1                     SSI People    No degree required  \n",
       "2      Wright Technical Services       Degree required  \n",
       "3               BayOne Solutions       Degree required  \n",
       "4                         Upwork    No degree required  \n",
       "5  Atlantic Partners Corporation       Degree required  \n",
       "6                    Brooksource    No degree required  \n",
       "7             Motion Recruitment    No degree required  \n",
       "8                          Alium       Degree required  \n",
       "9             Motion Recruitment       Degree required  "
      ]
     },
     "execution_count": 2,
     "metadata": {},
     "output_type": "execute_result"
    }
   ],
   "source": [
    "# Transform data\n",
    "df['job_no_degree_mention'] = df['job_no_degree_mention'].fillna(0)\n",
    "df['job_no_degree_mention'] = df['job_no_degree_mention'].replace({\n",
    "    1: 'No degree required', \n",
    "    0: 'Degree required'\n",
    "})\n",
    "df"
   ]
  },
  {
   "cell_type": "code",
   "execution_count": 3,
   "metadata": {},
   "outputs": [
    {
     "data": {
      "application/vnd.plotly.v1+json": {
       "config": {
        "plotlyServerURL": "https://plot.ly"
       },
       "data": [
        {
         "customdata": [
          [
           117.5,
           "Upwork",
           "No degree required"
          ],
          [
           105,
           "SSI People",
           "No degree required"
          ],
          [
           100,
           "Wright Technical Services",
           "Degree required"
          ],
          [
           100,
           "BayOne Solutions",
           "Degree required"
          ],
          [
           100,
           "Upwork",
           "No degree required"
          ],
          [
           100,
           "Atlantic Partners Corporation",
           "Degree required"
          ],
          [
           97.5,
           "Brooksource",
           "No degree required"
          ],
          [
           96.5,
           "Motion Recruitment",
           "No degree required"
          ],
          [
           95,
           "Alium",
           "Degree required"
          ],
          [
           95,
           "Motion Recruitment",
           "Degree required"
          ]
         ],
         "hovertemplate": "<b>Hourly Rate:</b> %{customdata[0]:,.2f}<br><b>Company:</b> %{customdata[1]}<br><b>Job:</b> %{customdata[2]}<extra></extra>",
         "labels": [
          0,
          1,
          2,
          3,
          4,
          5,
          6,
          7,
          8,
          9
         ],
         "marker": {
          "colors": [
           "#FF8A8A",
           "#FF8A8A",
           "#85C7E3",
           "#85C7E3",
           "#FF8A8A",
           "#85C7E3",
           "#FF8A8A",
           "#FF8A8A",
           "#85C7E3",
           "#85C7E3"
          ],
          "line": {
           "color": "white",
           "width": 1
          }
         },
         "parents": [
          "",
          "",
          "",
          "",
          "",
          "",
          "",
          "",
          "",
          ""
         ],
         "textfont": {
          "color": "white",
          "family": "verdana",
          "size": 16
         },
         "textinfo": "none",
         "texttemplate": "<b>Hourly Rate:</b> %{customdata[0]:,.2f}<br><b>Company:</b> %{customdata[1]}<br>%{customdata[2]}",
         "type": "treemap",
         "values": [
          80,
          45.58872906032681,
          30.673092717566753,
          30.673092717566753,
          30.673092717566753,
          30.673092717566753,
          22.936005596983435,
          19.786043406549,
          15,
          15
         ]
        }
       ],
       "layout": {
        "font": {
         "color": "white",
         "family": "verdana",
         "size": 20
        },
        "height": 800,
        "paper_bgcolor": "#08152A",
        "template": {
         "data": {
          "bar": [
           {
            "error_x": {
             "color": "#2a3f5f"
            },
            "error_y": {
             "color": "#2a3f5f"
            },
            "marker": {
             "line": {
              "color": "#E5ECF6",
              "width": 0.5
             },
             "pattern": {
              "fillmode": "overlay",
              "size": 10,
              "solidity": 0.2
             }
            },
            "type": "bar"
           }
          ],
          "barpolar": [
           {
            "marker": {
             "line": {
              "color": "#E5ECF6",
              "width": 0.5
             },
             "pattern": {
              "fillmode": "overlay",
              "size": 10,
              "solidity": 0.2
             }
            },
            "type": "barpolar"
           }
          ],
          "carpet": [
           {
            "aaxis": {
             "endlinecolor": "#2a3f5f",
             "gridcolor": "white",
             "linecolor": "white",
             "minorgridcolor": "white",
             "startlinecolor": "#2a3f5f"
            },
            "baxis": {
             "endlinecolor": "#2a3f5f",
             "gridcolor": "white",
             "linecolor": "white",
             "minorgridcolor": "white",
             "startlinecolor": "#2a3f5f"
            },
            "type": "carpet"
           }
          ],
          "choropleth": [
           {
            "colorbar": {
             "outlinewidth": 0,
             "ticks": ""
            },
            "type": "choropleth"
           }
          ],
          "contour": [
           {
            "colorbar": {
             "outlinewidth": 0,
             "ticks": ""
            },
            "colorscale": [
             [
              0,
              "#0d0887"
             ],
             [
              0.1111111111111111,
              "#46039f"
             ],
             [
              0.2222222222222222,
              "#7201a8"
             ],
             [
              0.3333333333333333,
              "#9c179e"
             ],
             [
              0.4444444444444444,
              "#bd3786"
             ],
             [
              0.5555555555555556,
              "#d8576b"
             ],
             [
              0.6666666666666666,
              "#ed7953"
             ],
             [
              0.7777777777777778,
              "#fb9f3a"
             ],
             [
              0.8888888888888888,
              "#fdca26"
             ],
             [
              1,
              "#f0f921"
             ]
            ],
            "type": "contour"
           }
          ],
          "contourcarpet": [
           {
            "colorbar": {
             "outlinewidth": 0,
             "ticks": ""
            },
            "type": "contourcarpet"
           }
          ],
          "heatmap": [
           {
            "colorbar": {
             "outlinewidth": 0,
             "ticks": ""
            },
            "colorscale": [
             [
              0,
              "#0d0887"
             ],
             [
              0.1111111111111111,
              "#46039f"
             ],
             [
              0.2222222222222222,
              "#7201a8"
             ],
             [
              0.3333333333333333,
              "#9c179e"
             ],
             [
              0.4444444444444444,
              "#bd3786"
             ],
             [
              0.5555555555555556,
              "#d8576b"
             ],
             [
              0.6666666666666666,
              "#ed7953"
             ],
             [
              0.7777777777777778,
              "#fb9f3a"
             ],
             [
              0.8888888888888888,
              "#fdca26"
             ],
             [
              1,
              "#f0f921"
             ]
            ],
            "type": "heatmap"
           }
          ],
          "heatmapgl": [
           {
            "colorbar": {
             "outlinewidth": 0,
             "ticks": ""
            },
            "colorscale": [
             [
              0,
              "#0d0887"
             ],
             [
              0.1111111111111111,
              "#46039f"
             ],
             [
              0.2222222222222222,
              "#7201a8"
             ],
             [
              0.3333333333333333,
              "#9c179e"
             ],
             [
              0.4444444444444444,
              "#bd3786"
             ],
             [
              0.5555555555555556,
              "#d8576b"
             ],
             [
              0.6666666666666666,
              "#ed7953"
             ],
             [
              0.7777777777777778,
              "#fb9f3a"
             ],
             [
              0.8888888888888888,
              "#fdca26"
             ],
             [
              1,
              "#f0f921"
             ]
            ],
            "type": "heatmapgl"
           }
          ],
          "histogram": [
           {
            "marker": {
             "pattern": {
              "fillmode": "overlay",
              "size": 10,
              "solidity": 0.2
             }
            },
            "type": "histogram"
           }
          ],
          "histogram2d": [
           {
            "colorbar": {
             "outlinewidth": 0,
             "ticks": ""
            },
            "colorscale": [
             [
              0,
              "#0d0887"
             ],
             [
              0.1111111111111111,
              "#46039f"
             ],
             [
              0.2222222222222222,
              "#7201a8"
             ],
             [
              0.3333333333333333,
              "#9c179e"
             ],
             [
              0.4444444444444444,
              "#bd3786"
             ],
             [
              0.5555555555555556,
              "#d8576b"
             ],
             [
              0.6666666666666666,
              "#ed7953"
             ],
             [
              0.7777777777777778,
              "#fb9f3a"
             ],
             [
              0.8888888888888888,
              "#fdca26"
             ],
             [
              1,
              "#f0f921"
             ]
            ],
            "type": "histogram2d"
           }
          ],
          "histogram2dcontour": [
           {
            "colorbar": {
             "outlinewidth": 0,
             "ticks": ""
            },
            "colorscale": [
             [
              0,
              "#0d0887"
             ],
             [
              0.1111111111111111,
              "#46039f"
             ],
             [
              0.2222222222222222,
              "#7201a8"
             ],
             [
              0.3333333333333333,
              "#9c179e"
             ],
             [
              0.4444444444444444,
              "#bd3786"
             ],
             [
              0.5555555555555556,
              "#d8576b"
             ],
             [
              0.6666666666666666,
              "#ed7953"
             ],
             [
              0.7777777777777778,
              "#fb9f3a"
             ],
             [
              0.8888888888888888,
              "#fdca26"
             ],
             [
              1,
              "#f0f921"
             ]
            ],
            "type": "histogram2dcontour"
           }
          ],
          "mesh3d": [
           {
            "colorbar": {
             "outlinewidth": 0,
             "ticks": ""
            },
            "type": "mesh3d"
           }
          ],
          "parcoords": [
           {
            "line": {
             "colorbar": {
              "outlinewidth": 0,
              "ticks": ""
             }
            },
            "type": "parcoords"
           }
          ],
          "pie": [
           {
            "automargin": true,
            "type": "pie"
           }
          ],
          "scatter": [
           {
            "fillpattern": {
             "fillmode": "overlay",
             "size": 10,
             "solidity": 0.2
            },
            "type": "scatter"
           }
          ],
          "scatter3d": [
           {
            "line": {
             "colorbar": {
              "outlinewidth": 0,
              "ticks": ""
             }
            },
            "marker": {
             "colorbar": {
              "outlinewidth": 0,
              "ticks": ""
             }
            },
            "type": "scatter3d"
           }
          ],
          "scattercarpet": [
           {
            "marker": {
             "colorbar": {
              "outlinewidth": 0,
              "ticks": ""
             }
            },
            "type": "scattercarpet"
           }
          ],
          "scattergeo": [
           {
            "marker": {
             "colorbar": {
              "outlinewidth": 0,
              "ticks": ""
             }
            },
            "type": "scattergeo"
           }
          ],
          "scattergl": [
           {
            "marker": {
             "colorbar": {
              "outlinewidth": 0,
              "ticks": ""
             }
            },
            "type": "scattergl"
           }
          ],
          "scattermapbox": [
           {
            "marker": {
             "colorbar": {
              "outlinewidth": 0,
              "ticks": ""
             }
            },
            "type": "scattermapbox"
           }
          ],
          "scatterpolar": [
           {
            "marker": {
             "colorbar": {
              "outlinewidth": 0,
              "ticks": ""
             }
            },
            "type": "scatterpolar"
           }
          ],
          "scatterpolargl": [
           {
            "marker": {
             "colorbar": {
              "outlinewidth": 0,
              "ticks": ""
             }
            },
            "type": "scatterpolargl"
           }
          ],
          "scatterternary": [
           {
            "marker": {
             "colorbar": {
              "outlinewidth": 0,
              "ticks": ""
             }
            },
            "type": "scatterternary"
           }
          ],
          "surface": [
           {
            "colorbar": {
             "outlinewidth": 0,
             "ticks": ""
            },
            "colorscale": [
             [
              0,
              "#0d0887"
             ],
             [
              0.1111111111111111,
              "#46039f"
             ],
             [
              0.2222222222222222,
              "#7201a8"
             ],
             [
              0.3333333333333333,
              "#9c179e"
             ],
             [
              0.4444444444444444,
              "#bd3786"
             ],
             [
              0.5555555555555556,
              "#d8576b"
             ],
             [
              0.6666666666666666,
              "#ed7953"
             ],
             [
              0.7777777777777778,
              "#fb9f3a"
             ],
             [
              0.8888888888888888,
              "#fdca26"
             ],
             [
              1,
              "#f0f921"
             ]
            ],
            "type": "surface"
           }
          ],
          "table": [
           {
            "cells": {
             "fill": {
              "color": "#EBF0F8"
             },
             "line": {
              "color": "white"
             }
            },
            "header": {
             "fill": {
              "color": "#C8D4E3"
             },
             "line": {
              "color": "white"
             }
            },
            "type": "table"
           }
          ]
         },
         "layout": {
          "annotationdefaults": {
           "arrowcolor": "#2a3f5f",
           "arrowhead": 0,
           "arrowwidth": 1
          },
          "autotypenumbers": "strict",
          "coloraxis": {
           "colorbar": {
            "outlinewidth": 0,
            "ticks": ""
           }
          },
          "colorscale": {
           "diverging": [
            [
             0,
             "#8e0152"
            ],
            [
             0.1,
             "#c51b7d"
            ],
            [
             0.2,
             "#de77ae"
            ],
            [
             0.3,
             "#f1b6da"
            ],
            [
             0.4,
             "#fde0ef"
            ],
            [
             0.5,
             "#f7f7f7"
            ],
            [
             0.6,
             "#e6f5d0"
            ],
            [
             0.7,
             "#b8e186"
            ],
            [
             0.8,
             "#7fbc41"
            ],
            [
             0.9,
             "#4d9221"
            ],
            [
             1,
             "#276419"
            ]
           ],
           "sequential": [
            [
             0,
             "#0d0887"
            ],
            [
             0.1111111111111111,
             "#46039f"
            ],
            [
             0.2222222222222222,
             "#7201a8"
            ],
            [
             0.3333333333333333,
             "#9c179e"
            ],
            [
             0.4444444444444444,
             "#bd3786"
            ],
            [
             0.5555555555555556,
             "#d8576b"
            ],
            [
             0.6666666666666666,
             "#ed7953"
            ],
            [
             0.7777777777777778,
             "#fb9f3a"
            ],
            [
             0.8888888888888888,
             "#fdca26"
            ],
            [
             1,
             "#f0f921"
            ]
           ],
           "sequentialminus": [
            [
             0,
             "#0d0887"
            ],
            [
             0.1111111111111111,
             "#46039f"
            ],
            [
             0.2222222222222222,
             "#7201a8"
            ],
            [
             0.3333333333333333,
             "#9c179e"
            ],
            [
             0.4444444444444444,
             "#bd3786"
            ],
            [
             0.5555555555555556,
             "#d8576b"
            ],
            [
             0.6666666666666666,
             "#ed7953"
            ],
            [
             0.7777777777777778,
             "#fb9f3a"
            ],
            [
             0.8888888888888888,
             "#fdca26"
            ],
            [
             1,
             "#f0f921"
            ]
           ]
          },
          "colorway": [
           "#636efa",
           "#EF553B",
           "#00cc96",
           "#ab63fa",
           "#FFA15A",
           "#19d3f3",
           "#FF6692",
           "#B6E880",
           "#FF97FF",
           "#FECB52"
          ],
          "font": {
           "color": "#2a3f5f"
          },
          "geo": {
           "bgcolor": "white",
           "lakecolor": "white",
           "landcolor": "#E5ECF6",
           "showlakes": true,
           "showland": true,
           "subunitcolor": "white"
          },
          "hoverlabel": {
           "align": "left"
          },
          "hovermode": "closest",
          "mapbox": {
           "style": "light"
          },
          "paper_bgcolor": "white",
          "plot_bgcolor": "#E5ECF6",
          "polar": {
           "angularaxis": {
            "gridcolor": "white",
            "linecolor": "white",
            "ticks": ""
           },
           "bgcolor": "#E5ECF6",
           "radialaxis": {
            "gridcolor": "white",
            "linecolor": "white",
            "ticks": ""
           }
          },
          "scene": {
           "xaxis": {
            "backgroundcolor": "#E5ECF6",
            "gridcolor": "white",
            "gridwidth": 2,
            "linecolor": "white",
            "showbackground": true,
            "ticks": "",
            "zerolinecolor": "white"
           },
           "yaxis": {
            "backgroundcolor": "#E5ECF6",
            "gridcolor": "white",
            "gridwidth": 2,
            "linecolor": "white",
            "showbackground": true,
            "ticks": "",
            "zerolinecolor": "white"
           },
           "zaxis": {
            "backgroundcolor": "#E5ECF6",
            "gridcolor": "white",
            "gridwidth": 2,
            "linecolor": "white",
            "showbackground": true,
            "ticks": "",
            "zerolinecolor": "white"
           }
          },
          "shapedefaults": {
           "line": {
            "color": "#2a3f5f"
           }
          },
          "ternary": {
           "aaxis": {
            "gridcolor": "white",
            "linecolor": "white",
            "ticks": ""
           },
           "baxis": {
            "gridcolor": "white",
            "linecolor": "white",
            "ticks": ""
           },
           "bgcolor": "#E5ECF6",
           "caxis": {
            "gridcolor": "white",
            "linecolor": "white",
            "ticks": ""
           }
          },
          "title": {
           "x": 0.05
          },
          "xaxis": {
           "automargin": true,
           "gridcolor": "white",
           "linecolor": "white",
           "ticks": "",
           "title": {
            "standoff": 15
           },
           "zerolinecolor": "white",
           "zerolinewidth": 2
          },
          "yaxis": {
           "automargin": true,
           "gridcolor": "white",
           "linecolor": "white",
           "ticks": "",
           "title": {
            "standoff": 15
           },
           "zerolinecolor": "white",
           "zerolinewidth": 2
          }
         }
        },
        "title": {
         "text": "<b>Treemap of Salary per Instance with Job Type Colors</b>",
         "x": 0.5,
         "y": 0.9
        },
        "width": 1000
       }
      }
     },
     "metadata": {},
     "output_type": "display_data"
    }
   ],
   "source": [
    "# Scaling function to make differences more visible\n",
    "def scale_values(values, min_size=15, max_size=80):\n",
    "    scaled = np.log1p(values) \n",
    "    scaled = (scaled - scaled.min()) / (scaled.max() - scaled.min())\n",
    "    scaled = scaled * (max_size - min_size) + min_size\n",
    "    return scaled\n",
    "df_plot = df.copy()\n",
    "df_plot['scaled_salary'] = scale_values(df_plot['salary_hour_avg'])\n",
    "\n",
    "# Define a color map for the categorical variable\n",
    "job_types = df['job_no_degree_mention'].unique()\n",
    "color_map = {\n",
    "    \"No degree required\": \"#FF8A8A\",  # Soft red\n",
    "    \"Degree required\": \"#85C7E3\"      # Soft blue\n",
    "}\n",
    "\n",
    "# Build the treemap\n",
    "fig = go.Figure(go.Treemap(\n",
    "    labels=df.index,\n",
    "    parents=[\"\"] * len(df),\n",
    "    values=df_plot['scaled_salary'],\n",
    "    marker=dict(\n",
    "        colors=[color_map[job] for job in df['job_no_degree_mention']],\n",
    "        line=dict(color='white', width=1)  \n",
    "    ),\n",
    "    textinfo=\"none\",  \n",
    "    texttemplate=\"<br>\".join([  \n",
    "        \"<b>Hourly Rate:</b> %{customdata[0]:,.2f}\",\n",
    "        \"<b>Company:</b> %{customdata[1]}\",\n",
    "        \"%{customdata[2]}\"\n",
    "    ]),\n",
    "    customdata=np.stack([df['salary_hour_avg'], df['company_name'], df['job_no_degree_mention']], axis=-1),\n",
    "    textfont=dict(family=\"verdana\", size=16, color=\"white\"),  \n",
    "    hovertemplate=\"<b>Hourly Rate:</b> %{customdata[0]:,.2f}<br>\" + \n",
    "                  \"<b>Company:</b> %{customdata[1]}<br>\" +\n",
    "                  \"<b>Job:</b> %{customdata[2]}<extra></extra>\" \n",
    "))\n",
    "\n",
    "fig.update_layout(\n",
    "    title=\"<b>Treemap of Salary per Instance with Job Type Colors</b>\",\n",
    "    title_x=0.5,\n",
    "    title_y=0.90,\n",
    "    width=1000,\n",
    "    height=800,\n",
    "    font=dict(family=\"verdana\", size=20, color=\"white\"),\n",
    "    paper_bgcolor='#08152A'\n",
    ")\n",
    "\n",
    "fig.show()"
   ]
  },
  {
   "cell_type": "code",
   "execution_count": null,
   "metadata": {},
   "outputs": [],
   "source": []
  }
 ],
 "metadata": {
  "kernelspec": {
   "display_name": "base",
   "language": "python",
   "name": "python3"
  },
  "language_info": {
   "codemirror_mode": {
    "name": "ipython",
    "version": 3
   },
   "file_extension": ".py",
   "mimetype": "text/x-python",
   "name": "python",
   "nbconvert_exporter": "python",
   "pygments_lexer": "ipython3",
   "version": "3.11.7"
  }
 },
 "nbformat": 4,
 "nbformat_minor": 2
}
